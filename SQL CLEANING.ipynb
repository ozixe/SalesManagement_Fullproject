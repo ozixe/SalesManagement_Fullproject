{
 "cells": [
  {
   "cell_type": "markdown",
   "id": "e825f60d",
   "metadata": {},
   "source": [
    "# Data Cleaning and Transformation for Merlin Cycles\n",
    "This notebook details the step-by-step process undertaken to clean and transform the dataset from Merlin Cycles. Each section provides the SQL code used, an explanation of the transformations, and the reasoning behind these choices. This comprehensive approach ensures a clear understanding of the dataset preparation for subsequent analysis."
   ]
  },
  {
   "cell_type": "markdown",
   "id": "f20569dd",
   "metadata": {},
   "source": [
    "## 1. Cleaning the FACT_InternetSales Table"
   ]
  },
  {
   "cell_type": "code",
   "execution_count": null,
   "id": "87b055a7",
   "metadata": {},
   "outputs": [],
   "source": [
    "-- Cleansed FACT_InternetSales Table\n",
    "SELECT \n",
    "  [ProductKey], \n",
    "  [OrderDateKey], \n",
    "  [DueDateKey], \n",
    "  [ShipDateKey], \n",
    "  [CustomerKey], \n",
    "  [SalesOrderNumber], \n",
    "  [SalesAmount]\n",
    "FROM \n",
    "  [AdventureWorksDW2019].[dbo].[FactInternetSales]\n",
    "WHERE \n",
    "  LEFT (OrderDateKey, 4) >= YEAR(GETDATE()) - 2 -- Ensures we always only bring two years of data from extraction.\n",
    "ORDER BY\n",
    "  OrderDateKey ASC;"
   ]
  },
  {
   "cell_type": "markdown",
   "id": "269d72f6",
   "metadata": {},
   "source": [
    "### Description\n",
    "In this step, we clean the **FACT_InternetSales** table. The goal is to retain only the most relevant fields for our analysis. The selected fields are:\n",
    "- `ProductKey`\n",
    "- `OrderDateKey`\n",
    "- `DueDateKey`\n",
    "- `ShipDateKey`\n",
    "- `CustomerKey`\n",
    "- `SalesOrderNumber`\n",
    "- `SalesAmount`\n",
    "\n",
    "We filter the data to include only the past two years. This ensures that our dataset remains current and manageable. By focusing on the recent data, we facilitate temporal analysis and streamline the dataset for efficient loading into Power BI.\n",
    "\n",
    "#### Reasoning:\n",
    "1. **Relevance:** By selecting only the necessary columns, we reduce the data volume, making it easier to handle and analyze.\n",
    "2. **Timeliness:** Limiting the data to the past two years ensures our analysis is based on the most recent trends and patterns.\n",
    "3. **Efficiency:** A smaller, focused dataset is quicker to process and visualize in Power BI.\n",
    "\n",
    "This transformation sets the foundation for our analysis, ensuring we work with clean, relevant, and current data."
   ]
  },
  {
   "cell_type": "markdown",
   "id": "6585971f",
   "metadata": {},
   "source": [
    "## 2. Cleaning the DIM_Products Table"
   ]
  },
  {
   "cell_type": "code",
   "execution_count": null,
   "id": "a9ede981",
   "metadata": {},
   "outputs": [],
   "source": [
    "-- Cleansed DIM_Products Table\n",
    "SELECT \n",
    "  p.[ProductKey], \n",
    "  p.[ProductAlternateKey] AS ProductItemCode, \n",
    "  p.[EnglishProductName] AS [Product Name], \n",
    "  ps.EnglishProductSubcategoryName AS [Sub Category],\n",
    "  pc.EnglishProductCategoryName AS [Product Category], \n",
    "  p.[Color] AS [Product Color], \n",
    "  p.[Size] AS [Product Size], \n",
    "  p.[ProductLine] AS [Product Line], \n",
    "  p.[ModelName] AS [Product Model Name], \n",
    "  p.[EnglishDescription] AS [Product Description]\n",
    "FROM \n",
    "  [AdventureWorksDW2019].[dbo].[DimProduct] AS p\n",
    "  LEFT JOIN dbo.DimProductSubcategory AS ps ON p.ProductSubcategoryKey = ps.ProductSubcategoryKey\n",
    "  LEFT JOIN dbo.DimProductCategory AS pc ON ps.ProductCategoryKey = pc.ProductCategoryKey\n",
    "ORDER BY \n",
    "  p.[ProductKey] ASC;"
   ]
  },
  {
   "cell_type": "markdown",
   "id": "0c1fe393",
   "metadata": {},
   "source": [
    "### Description\n",
    "The **DIM_Products** table is refined to focus on key attributes that provide a comprehensive view of our products. The selected fields include:\n",
    "- `ProductKey`\n",
    "- `ProductItemCode` (as `Product Item Code`)\n",
    "- `Product Name`\n",
    "- `Sub Category`\n",
    "- `Product Category`\n",
    "- `Product Color`\n",
    "- `Product Size`\n",
    "- `Product Line`\n",
    "- `Product Model Name`\n",
    "- `Product Description`\n",
    "\n",
    "By joining the product data with subcategory and category tables, we enrich the product information, providing a detailed hierarchy. This enriched dataset allows for a deeper understanding of sales performance across various product lines and categories.\n",
    "\n",
    "#### Reasoning:\n",
    "1. **Comprehensiveness:** Including various product attributes helps in detailed analysis and understanding of product performance.\n",
    "2. **Hierarchy:** Joining with subcategory and category tables provides context and improves the granularity of our analysis.\n",
    "3. **Detail:** Detailed product-level data is essential for understanding trends, preferences, and sales performance.\n",
    "\n",
    "This transformation ensures we have a rich and detailed dataset to analyze product performance and trends."
   ]
  },
  {
   "cell_type": "markdown",
   "id": "2064ab72",
   "metadata": {},
   "source": [
    "## 3. Cleaning the DIM_Customers Table"
   ]
  },
  {
   "cell_type": "code",
   "execution_count": null,
   "id": "aeb9c4e3",
   "metadata": {},
   "outputs": [],
   "source": [
    "-- Cleansed DIM_Customers Table\n",
    "SELECT \n",
    "  c.customerkey AS CustomerKey, \n",
    "  c.firstname AS [First Name], \n",
    "  c.lastname AS [Last Name], \n",
    "  c.firstname + ' ' + c.lastname AS [Full Name], \n",
    "  CASE c.gender WHEN 'M' THEN 'Male' WHEN 'F' THEN 'Female' END AS Gender,\n",
    "  c.datefirstpurchase AS DateFirstPurchase, \n",
    "  g.city AS [Customer City]\n",
    "FROM \n",
    "  [AdventureWorksDW2019].[dbo].[DimCustomer] AS c\n",
    "  LEFT JOIN dbo.dimgeography AS g ON g.geographykey = c.geographykey \n",
    "ORDER BY \n",
    "  c.CustomerKey ASC;"
   ]
  },
  {
   "cell_type": "markdown",
   "id": "b9452bd3",
   "metadata": {},
   "source": [
    "### Description\n",
    "The **DIM_Customers** table is consolidated by selecting essential customer information, including:\n",
    "- `CustomerKey`\n",
    "- `First Name`\n",
    "- `Last Name`\n",
    "- `Full Name`\n",
    "- `Gender`\n",
    "- `DateFirstPurchase`\n",
    "- `Customer City`\n",
    "\n",
    "By integrating geographic data through a join with the geography table, we enrich our customer insights. This enables detailed demographic analysis, crucial for segmenting customers based on their geographic locations and purchase behavior.\n",
    "\n",
    "#### Reasoning:\n",
    "1. **Essentials:** Focusing on key customer attributes simplifies our dataset while retaining necessary information.\n",
    "2. **Geographic Insights:** Joining with the geography table adds valuable context, allowing for location-based analysis.\n",
    "3. **Demographics:** Understanding customer demographics is key to targeted marketing and sales strategies.\n",
    "\n",
    "This transformation provides a clear and detailed view of our customers, supporting demographic analysis and customer segmentation."
   ]
  },
  {
   "cell_type": "markdown",
   "id": "e9ab5af4",
   "metadata": {},
   "source": [
    "## 4. Cleaning the DIM_Date Table"
   ]
  },
  {
   "cell_type": "code",
   "execution_count": null,
   "id": "d1e6e974",
   "metadata": {},
   "outputs": [],
   "source": [
    "-- Cleansed DIM_Date Table\n",
    "SELECT \n",
    "  [DateKey], \n",
    "  [FullDateAlternateKey] AS Date, \n",
    "  [EnglishDayNameOfWeek] AS Day, \n",
    "  [EnglishMonthName] AS Month, \n",
    "  LEFT([EnglishMonthName], 3) AS MonthShort, \n",
    "  [MonthNumberOfYear] AS MonthNo, \n",
    "  [CalendarQuarter] AS Quarter, \n",
    "  [CalendarYear] AS Year\n",
    "FROM \n",
    "  [AdventureWorksDW2019].[dbo].[DimDate]\n",
    "WHERE \n",
    "  CalendarYear >= 2019\n",
    "ORDER BY \n",
    "  [DateKey] ASC;"
   ]
  },
  {
   "cell_type": "markdown",
   "id": "d1324553",
   "metadata": {},
   "source": [
    "### Description\n",
    "The **DIM_Date** table is tailored to support time-based analysis by including fields such as:\n",
    "- `DateKey`\n",
    "- `Date`\n",
    "- `Day`\n",
    "- `Month`\n",
    "- `MonthShort`\n",
    "- `MonthNo`\n",
    "- `Quarter`\n",
    "- `Year`\n",
    "\n",
    "Filtering from the year 2019 onwards ensures that the date dimension is comprehensive and up-to-date. This structure facilitates accurate temporal analysis and trend identification.\n",
    "\n",
    "#### Reasoning:\n",
    "1. **Time-Based Analysis:** Including detailed date fields supports robust temporal analysis.\n",
    "2. **Current Data:** Filtering to include data from 2019 onwards ensures relevancy and accuracy.\n",
    "3. **Trend Identification:** A well-structured date dimension is crucial for identifying trends and patterns over time.\n",
    "\n",
    "This transformation lays the groundwork for detailed temporal analysis, providing a solid foundation for insightful visualizations and data-driven decision-making in Power BI."
   ]
  }
 ],
 "metadata": {},
 "nbformat": 4,
 "nbformat_minor": 5
}
