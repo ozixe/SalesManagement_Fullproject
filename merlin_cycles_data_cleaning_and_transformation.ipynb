{
 "cells": [
  {
   "cell_type": "markdown",
   "id": "cc801586",
   "metadata": {},
   "source": [
    "# Data Cleaning and Transformation for Merlin Cycles"
   ]
  },
  {
   "cell_type": "markdown",
   "id": "1b3a4a42",
   "metadata": {},
   "source": [
    "## 1. Cleaning the FACT_InternetSales Table"
   ]
  },
  {
   "cell_type": "code",
   "execution_count": null,
   "id": "1a6c8547",
   "metadata": {},
   "outputs": [],
   "source": [
    "-- Cleansed FACT_InternetSales Table\n",
    "SELECT \n",
    "  [ProductKey], \n",
    "  [OrderDateKey], \n",
    "  [DueDateKey], \n",
    "  [ShipDateKey], \n",
    "  [CustomerKey], \n",
    "  [SalesOrderNumber], \n",
    "  [SalesAmount]\n",
    "FROM \n",
    "  [AdventureWorksDW2019].[dbo].[FactInternetSales]\n",
    "WHERE \n",
    "  LEFT (OrderDateKey, 4) >= YEAR(GETDATE()) - 2 -- Ensures we always only bring two years of data from extraction.\n",
    "ORDER BY\n",
    "  OrderDateKey ASC;"
   ]
  },
  {
   "cell_type": "markdown",
   "id": "d7420ce3",
   "metadata": {},
   "source": [
    "The **FACT_InternetSales** table was cleansed to retain only the most relevant fields for analysis, including `ProductKey`, `OrderDateKey`, `DueDateKey`, `ShipDateKey`, `CustomerKey`, `SalesOrderNumber`, and `SalesAmount`. By filtering the data to include only the past two years, I ensured the dataset remained current and manageable. This transformation facilitated temporal analysis and streamlined the dataset for efficient loading into Power BI."
   ]
  },
  {
   "cell_type": "markdown",
   "id": "c9f2f92c",
   "metadata": {},
   "source": [
    "## 2. Cleaning the DIM_Products Table"
   ]
  },
  {
   "cell_type": "code",
   "execution_count": null,
   "id": "448eb6ce",
   "metadata": {},
   "outputs": [],
   "source": [
    "-- Cleansed DIM_Products Table\n",
    "SELECT \n",
    "  p.[ProductKey], \n",
    "  p.[ProductAlternateKey] AS ProductItemCode, \n",
    "  p.[EnglishProductName] AS [Product Name], \n",
    "  ps.EnglishProductSubcategoryName AS [Sub Category],\n",
    "  pc.EnglishProductCategoryName AS [Product Category], \n",
    "  p.[Color] AS [Product Color], \n",
    "  p.[Size] AS [Product Size], \n",
    "  p.[ProductLine] AS [Product Line], \n",
    "  p.[ModelName] AS [Product Model Name], \n",
    "  p.[EnglishDescription] AS [Product Description]\n",
    "FROM \n",
    "  [AdventureWorksDW2019].[dbo].[DimProduct] AS p\n",
    "  LEFT JOIN dbo.DimProductSubcategory AS ps ON p.ProductSubcategoryKey = ps.ProductSubcategoryKey\n",
    "  LEFT JOIN dbo.DimProductCategory AS pc ON ps.ProductCategoryKey = pc.ProductCategoryKey\n",
    "ORDER BY \n",
    "  p.[ProductKey] ASC;"
   ]
  },
  {
   "cell_type": "markdown",
   "id": "e2bb952f",
   "metadata": {},
   "source": [
    "The **DIM_Products** table was refined to focus on key attributes such as `ProductKey`, `ProductItemCode`, `Product Name`, `Sub Category`, `Product Category`, `Product Color`, `Product Size`, `Product Line`, `Product Model Name`, and `Product Description`. By joining the product data with subcategory and category tables, I enriched the product information, providing a comprehensive view of the product hierarchy. This detailed product-level analysis is essential for understanding sales performance across various product lines."
   ]
  },
  {
   "cell_type": "markdown",
   "id": "98141c5d",
   "metadata": {},
   "source": [
    "## 3. Cleaning the DIM_Customers Table"
   ]
  },
  {
   "cell_type": "code",
   "execution_count": null,
   "id": "9d07d388",
   "metadata": {},
   "outputs": [],
   "source": [
    "-- Cleansed DIM_Customers Table\n",
    "SELECT \n",
    "  c.customerkey AS CustomerKey, \n",
    "  c.firstname AS [First Name], \n",
    "  c.lastname AS [Last Name], \n",
    "  c.firstname + ' ' + c.lastname AS [Full Name], \n",
    "  CASE c.gender WHEN 'M' THEN 'Male' WHEN 'F' THEN 'Female' END AS Gender,\n",
    "  c.datefirstpurchase AS DateFirstPurchase, \n",
    "  g.city AS [Customer City]\n",
    "FROM \n",
    "  [AdventureWorksDW2019].[dbo].[DimCustomer] AS c\n",
    "  LEFT JOIN dbo.dimgeography AS g ON g.geographykey = c.geographykey \n",
    "ORDER BY \n",
    "  c.CustomerKey ASC;"
   ]
  },
  {
   "cell_type": "markdown",
   "id": "c6066780",
   "metadata": {},
   "source": [
    "The **DIM_Customers** table was consolidated by selecting essential customer information, including `CustomerKey`, `First Name`, `Last Name`, `Full Name`, `Gender`, `DateFirstPurchase`, and `Customer City`. Integrating geographic data through a join with the geography table enriched customer insights, enabling detailed demographic analysis. This step was crucial for segmenting customers based on their geographic locations and purchase behavior."
   ]
  },
  {
   "cell_type": "markdown",
   "id": "24f28c34",
   "metadata": {},
   "source": [
    "## 4. Cleaning the DIM_Date Table"
   ]
  },
  {
   "cell_type": "code",
   "execution_count": null,
   "id": "90d4e393",
   "metadata": {},
   "outputs": [],
   "source": [
    "-- Cleansed DIM_Date Table\n",
    "SELECT \n",
    "  [DateKey], \n",
    "  [FullDateAlternateKey] AS Date, \n",
    "  [EnglishDayNameOfWeek] AS Day, \n",
    "  [EnglishMonthName] AS Month, \n",
    "  LEFT([EnglishMonthName], 3) AS MonthShort, \n",
    "  [MonthNumberOfYear] AS MonthNo, \n",
    "  [CalendarQuarter] AS Quarter, \n",
    "  [CalendarYear] AS Year\n",
    "FROM \n",
    "  [AdventureWorksDW2019].[dbo].[DimDate]\n",
    "WHERE \n",
    "  CalendarYear >= 2019\n",
    "ORDER BY \n",
    "  [DateKey] ASC;"
   ]
  },
  {
   "cell_type": "markdown",
   "id": "94220c0a",
   "metadata": {},
   "source": [
    "The **DIM_Date** table was tailored to support time-based analysis by including fields such as `DateKey`, `Date`, `Day`, `Month`, `MonthShort`, `MonthNo`, `Quarter`, and `Year`, filtered from the year 2019 onwards. This selection ensured that the date dimension was comprehensive and up-to-date, facilitating accurate temporal analysis and trend identification. By structuring the data in this manner, I enabled robust, multidimensional analysis, providing a solid foundation for insightful visualizations and data-driven decision-making in Power BI."
   ]
  }
 ],
 "metadata": {},
 "nbformat": 4,
 "nbformat_minor": 5
}
